{
 "cells": [
  {
   "cell_type": "markdown",
   "metadata": {},
   "source": [
    "# Basic customizations"
   ]
  },
  {
   "cell_type": "code",
   "execution_count": 1,
   "metadata": {},
   "outputs": [],
   "source": [
    "class BaseCart:\n",
    "    def __init__(self, user_id):\n",
    "        self.user_id = user_id\n",
    "        self.cart_items = {}\n",
    "        \n",
    "    def add_item(self, item_id, item_count=1):\n",
    "        self.cart_items[item_id] = self.cart_items.get(item_id, 0) + item_count"
   ]
  },
  {
   "cell_type": "code",
   "execution_count": 2,
   "metadata": {},
   "outputs": [
    {
     "name": "stdout",
     "output_type": "stream",
     "text": [
      "<__main__.BaseCart object at 0x10de8b550>\n"
     ]
    }
   ],
   "source": [
    "cart_1 = BaseCart(\"user_id_1\")\n",
    "cart_1.add_item(\"item_1\")\n",
    "cart_1.add_item(\"item_2\")\n",
    "print(cart_1)"
   ]
  },
  {
   "cell_type": "code",
   "execution_count": 3,
   "metadata": {},
   "outputs": [],
   "source": [
    "class Cart(BaseCart):\n",
    "    def __repr__(self):\n",
    "        return f\"Cart('{self.user_id}')\"\n",
    "    \n",
    "    def __str__(self):\n",
    "        return f\"Cart for user_id:{self.user_id} has {len(self.cart_items)} items\""
   ]
  },
  {
   "cell_type": "code",
   "execution_count": 4,
   "metadata": {},
   "outputs": [
    {
     "data": {
      "text/plain": [
       "Cart('user_id_1')"
      ]
     },
     "execution_count": 4,
     "metadata": {},
     "output_type": "execute_result"
    }
   ],
   "source": [
    "cart_1 = Cart(\"user_id_1\")\n",
    "cart_1.add_item(\"item_1\")\n",
    "cart_1.add_item(\"item_2\")\n",
    "cart_1"
   ]
  },
  {
   "cell_type": "code",
   "execution_count": 5,
   "metadata": {},
   "outputs": [
    {
     "name": "stdout",
     "output_type": "stream",
     "text": [
      "Cart for user_id:user_id_1 has 2 items\n",
      "String formating: Cart for user_id:user_id_1 has 2 items\n"
     ]
    }
   ],
   "source": [
    "print(cart_1)\n",
    "print(f\"String formating: {cart_1}\")"
   ]
  },
  {
   "cell_type": "code",
   "execution_count": 6,
   "metadata": {},
   "outputs": [],
   "source": [
    "class Cart(BaseCart):\n",
    "    def __bool__(self):\n",
    "        return len(self.cart_items) > 0"
   ]
  },
  {
   "cell_type": "code",
   "execution_count": 7,
   "metadata": {},
   "outputs": [
    {
     "name": "stdout",
     "output_type": "stream",
     "text": [
      "Cart contains at least 1 item.\n"
     ]
    }
   ],
   "source": [
    "cart_1 = Cart(\"user_id_1\")\n",
    "cart_1.add_item(\"item_id_1\")\n",
    "if cart_1:\n",
    "    print(\"Cart contains at least 1 item.\")\n",
    "else:\n",
    "    print(\"Cart is empty.\")"
   ]
  },
  {
   "cell_type": "markdown",
   "metadata": {},
   "source": [
    "# Operator Overloading"
   ]
  },
  {
   "cell_type": "code",
   "execution_count": 8,
   "metadata": {},
   "outputs": [],
   "source": [
    "class Cart(BaseCart):\n",
    "    def __gt__(self, other):\n",
    "        return len(self.cart_items) > len(other.cart_items)"
   ]
  },
  {
   "cell_type": "code",
   "execution_count": 9,
   "metadata": {},
   "outputs": [
    {
     "name": "stdout",
     "output_type": "stream",
     "text": [
      "False\n",
      "True\n"
     ]
    }
   ],
   "source": [
    "cart_1 = Cart(\"user_id_1\")\n",
    "cart_2 = Cart(\"user_id_2\")\n",
    "cart_1.add_item(\"item_id_1\")\n",
    "cart_2.add_item(\"item_id_1\")\n",
    "print(cart_1 > cart_2)\n",
    "cart_1.add_item(\"item_id_2\")\n",
    "print(cart_1 > cart_2)"
   ]
  },
  {
   "cell_type": "code",
   "execution_count": 10,
   "metadata": {},
   "outputs": [],
   "source": [
    "from functools import total_ordering\n",
    "@total_ordering\n",
    "class Cart(BaseCart):\n",
    "    def __gt__(self, other):\n",
    "        return len(self.cart_items) > len(other.cart_items)\n",
    "    \n",
    "    def __eq__(self, other):\n",
    "        return len(self.cart_items) == len(other.cart_items)"
   ]
  },
  {
   "cell_type": "code",
   "execution_count": 11,
   "metadata": {},
   "outputs": [
    {
     "name": "stdout",
     "output_type": "stream",
     "text": [
      "False\n",
      "True\n"
     ]
    }
   ],
   "source": [
    "cart_1 = Cart(\"user_id_1\")\n",
    "cart_2 = Cart(\"user_id_2\")\n",
    "cart_1.add_item(\"item_id_1\")\n",
    "cart_2.add_item(\"item_id_1\")\n",
    "print(cart_1 < cart_2)\n",
    "print(cart_1 <= cart_2)"
   ]
  },
  {
   "cell_type": "code",
   "execution_count": 12,
   "metadata": {},
   "outputs": [],
   "source": [
    "class Cart(BaseCart):    \n",
    "    def __add__(self, other):\n",
    "        new_cart = Cart(self.user_id)\n",
    "        for item_id, item_count in self.cart_items.items():\n",
    "            new_cart.add_item(item_id, item_count)\n",
    "            \n",
    "        for item_id, item_count in other.cart_items.items():\n",
    "            new_cart.add_item(item_id, item_count)\n",
    "        return new_cart"
   ]
  },
  {
   "cell_type": "code",
   "execution_count": 13,
   "metadata": {},
   "outputs": [
    {
     "name": "stdout",
     "output_type": "stream",
     "text": [
      "{'item_id_1': 2, 'item_id_2': 1}\n"
     ]
    }
   ],
   "source": [
    "cart_1, cart_2 = Cart(\"user_id_1\"), Cart(\"user_id_2\")\n",
    "cart_1.add_item(\"item_id_1\")\n",
    "cart_2.add_item(\"item_id_1\")\n",
    "cart_2.add_item(\"item_id_2\")\n",
    "\n",
    "cart_3 = cart_1 + cart_2\n",
    "\n",
    "print(cart_3.cart_items)"
   ]
  },
  {
   "cell_type": "markdown",
   "metadata": {},
   "source": [
    "# Containers"
   ]
  },
  {
   "cell_type": "code",
   "execution_count": 14,
   "metadata": {},
   "outputs": [],
   "source": [
    "class Cart(BaseCart):\n",
    "    def __contains__(self, key):\n",
    "        return key in self.cart_items"
   ]
  },
  {
   "cell_type": "code",
   "execution_count": 15,
   "metadata": {},
   "outputs": [
    {
     "name": "stdout",
     "output_type": "stream",
     "text": [
      "True\n",
      "False\n"
     ]
    }
   ],
   "source": [
    "cart_1 = Cart(\"user_id_1\")\n",
    "cart_1.add_item(\"item_id_1\")\n",
    "print(\"item_id_1\" in cart_1)\n",
    "print(\"item_id_2\" in cart_1)"
   ]
  },
  {
   "cell_type": "code",
   "execution_count": 16,
   "metadata": {},
   "outputs": [],
   "source": [
    "class Cart(BaseCart):\n",
    "    def __len__(self):\n",
    "        return sum((value for value in self.cart_items.values()))"
   ]
  },
  {
   "cell_type": "code",
   "execution_count": 17,
   "metadata": {},
   "outputs": [
    {
     "data": {
      "text/plain": [
       "3"
      ]
     },
     "execution_count": 17,
     "metadata": {},
     "output_type": "execute_result"
    }
   ],
   "source": [
    "cart_1 = Cart(\"user_id_1\")\n",
    "cart_1.add_item(\"item_id_1\", 2)\n",
    "cart_1.add_item(\"item_id_2\")\n",
    "len(cart_1)"
   ]
  },
  {
   "cell_type": "code",
   "execution_count": 18,
   "metadata": {},
   "outputs": [],
   "source": [
    "class UpdatedCart(Cart):    \n",
    "    def __iter__(self):\n",
    "        for item_id in self.cart_items:\n",
    "            yield item_id"
   ]
  },
  {
   "cell_type": "code",
   "execution_count": 19,
   "metadata": {},
   "outputs": [
    {
     "name": "stdout",
     "output_type": "stream",
     "text": [
      "item_id_1\n",
      "item_id_2\n"
     ]
    }
   ],
   "source": [
    "cart_1 = UpdatedCart(\"user_id_1\")\n",
    "cart_1.add_item(\"item_id_1\")\n",
    "cart_1.add_item(\"item_id_1\")\n",
    "cart_1.add_item(\"item_id_2\")\n",
    "for item in cart_1:\n",
    "    print(item)"
   ]
  },
  {
   "cell_type": "code",
   "execution_count": 20,
   "metadata": {},
   "outputs": [],
   "source": [
    "class UpdatedCart(Cart):    \n",
    "    def __getitem__(self, key):\n",
    "        return self.cart_items[key]"
   ]
  },
  {
   "cell_type": "code",
   "execution_count": 21,
   "metadata": {},
   "outputs": [
    {
     "data": {
      "text/plain": [
       "2"
      ]
     },
     "execution_count": 21,
     "metadata": {},
     "output_type": "execute_result"
    }
   ],
   "source": [
    "cart_1 = UpdatedCart(\"user_id_1\")\n",
    "cart_1.add_item(\"item_id_1\")\n",
    "cart_1.add_item(\"item_id_1\")\n",
    "cart_1[\"item_id_1\"]"
   ]
  },
  {
   "cell_type": "markdown",
   "metadata": {},
   "source": [
    "# collections.abc"
   ]
  },
  {
   "cell_type": "code",
   "execution_count": 22,
   "metadata": {},
   "outputs": [],
   "source": [
    "from collections import abc\n",
    "class UpdatedCart(Cart, abc.Mapping):  \n",
    "    def __iter__(self):\n",
    "        for key in self.cart_items:\n",
    "            yield key\n",
    "            \n",
    "    def __len__(self):\n",
    "        return len(self.cart_items)\n",
    "    \n",
    "    def __getitem__(self, key):\n",
    "        return self.cart_items[key]"
   ]
  },
  {
   "cell_type": "code",
   "execution_count": 23,
   "metadata": {},
   "outputs": [],
   "source": [
    "cart_1 = UpdatedCart(\"user_id_1\")\n",
    "cart_1.add_item(\"item_id_1\")\n",
    "cart_1.add_item(\"item_id_2\")"
   ]
  },
  {
   "cell_type": "code",
   "execution_count": 24,
   "metadata": {},
   "outputs": [
    {
     "data": {
      "text/plain": [
       "True"
      ]
     },
     "execution_count": 24,
     "metadata": {},
     "output_type": "execute_result"
    }
   ],
   "source": [
    "'item_id_1' in cart_1"
   ]
  },
  {
   "cell_type": "code",
   "execution_count": 25,
   "metadata": {},
   "outputs": [
    {
     "data": {
      "text/plain": [
       "['item_id_1', 'item_id_2']"
      ]
     },
     "execution_count": 25,
     "metadata": {},
     "output_type": "execute_result"
    }
   ],
   "source": [
    "list(cart_1.keys())"
   ]
  },
  {
   "cell_type": "markdown",
   "metadata": {},
   "source": [
    "# Simulating open Context Manager"
   ]
  },
  {
   "cell_type": "code",
   "execution_count": 26,
   "metadata": {},
   "outputs": [],
   "source": [
    "class FileReader:\n",
    "    def __init__(self, filename):\n",
    "        self.filename = filename\n",
    "        self.file_handle = None\n",
    "\n",
    "    def __enter__(self):\n",
    "        self.file_handle = open(self.filename)\n",
    "        return self.file_handle\n",
    "\n",
    "    def __exit__(self, exc_type, exc_value, traceback):\n",
    "        if self.file_handle:\n",
    "            self.file_handle.close()\n",
    "\n",
    "#with FileReader(\"/path/to/file\") as file_handle:\n",
    "#    content = file_handle.read()"
   ]
  }
 ],
 "metadata": {
  "kernelspec": {
   "display_name": "Python 3",
   "language": "python",
   "name": "python3"
  },
  "language_info": {
   "codemirror_mode": {
    "name": "ipython",
    "version": 3
   },
   "file_extension": ".py",
   "mimetype": "text/x-python",
   "name": "python",
   "nbconvert_exporter": "python",
   "pygments_lexer": "ipython3",
   "version": "3.6.5"
  }
 },
 "nbformat": 4,
 "nbformat_minor": 2
}
